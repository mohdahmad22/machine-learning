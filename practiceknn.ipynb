{
 "cells": [
  {
   "cell_type": "code",
   "execution_count": 11,
   "metadata": {},
   "outputs": [],
   "source": [
    "import csv\n",
    "import random\n",
    "import math\n",
    "class knn:\n",
    "    \n",
    "    def getResponse(self,neighbors):\n",
    "        classVotes={}\n",
    "        for x in range(len(neighbors)):\n",
    "            response=neighbors[x][-1]\n",
    "            if response in classVotes:\n",
    "                classVotes[response]+=1\n",
    "            else:\n",
    "                classVotes[response]=1\n",
    "        sortedVotes=sorted(classVotes.items(),key=operator.itemgetter(1),reverse=True)\n",
    "        return sortedVotes[0][0]\n",
    "    def getNeighbors(self,trainingset,testinstance,k):\n",
    "        distance=[]\n",
    "        length=len(testinstance)-1\n",
    "        for x in range(len(trainingset)):\n",
    "            dist=euclideanDistance(testinstance,trainingset[x],length)\n",
    "            distance.append((trainingset[x],dist))\n",
    "        distance.sort(key=operator.itemgetter(1))\n",
    "        neighbors=[]\n",
    "        for x in range(k):\n",
    "            neighbors.append(distance[x][0])\n",
    "        return neighbors\n",
    "\n",
    "\n",
    "\n",
    "    def getAccuracy(self,testSet,predictions):\n",
    "        correct=0\n",
    "        for i in range(len(predictions)):\n",
    "            if testSet[i][-1]==predictions[i]:\n",
    "                correct+=1\n",
    "\n",
    "\n",
    "        return (correct/float(len(predictions)))*100\n",
    "\n",
    "    def euclideanDistance(self,instance1,instance2,length):\n",
    "        distance=0\n",
    "        for x in range(length):\n",
    "            distance+=pow((instance1[x]-instance2[x]),2)\n",
    "        return math.sqrt(distance)\n",
    "    def loadDataset(self,filename,split,trainingset=[],testset=[]):\n",
    "        with open(filename,'r') as csvfile:\n",
    "            lines=csv.reader(csvfile)\n",
    "            dataset=list(lines)\n",
    "            for x in range(len(dataset)-1):\n",
    "                for y in range(4):\n",
    "                    dataset[x][y]=float(dataset[x][y])\n",
    "                if random.random()<split:\n",
    "                    trainingset.append(dataset[x])\n",
    "                else:\n",
    "                    testset.append(dataset[x])\n",
    "            \n",
    "    def predict(self,filename):\n",
    "        trainingset=[]\n",
    "        testset=[]\n",
    "        split=.67\n",
    "        self.loadDataset(filename,split,trainingset,testset)\n",
    "        print('train set:'+repr(len(trainingset)))\n",
    "        print('test set:'+repr(len(testset)))\n",
    "\n",
    "        prediction=[]\n",
    "        k=3\n",
    "        for x in range(len(testset)):\n",
    "            neighbors=getNeighbors(trainingset,testset[x],k)\n",
    "            result=getResponse(neighbors)\n",
    "            prediction.append(result)\n",
    "            print('>predicted='+repr(result)+',actual='+repr(testset[x][-1]))\n",
    "        print(getAccuracy(testset,prediction))\n",
    "    \n",
    "\n",
    "    "
   ]
  },
  {
   "cell_type": "code",
   "execution_count": 14,
   "metadata": {},
   "outputs": [],
   "source": [
    "model=knn()\n",
    "train_set=[]\n",
    "test_set=[]"
   ]
  },
  {
   "cell_type": "code",
   "execution_count": 18,
   "metadata": {},
   "outputs": [
    {
     "ename": "NameError",
     "evalue": "name 'loadDataset' is not defined",
     "output_type": "error",
     "traceback": [
      "\u001b[1;31m---------------------------------------------------------------------------\u001b[0m",
      "\u001b[1;31mNameError\u001b[0m                                 Traceback (most recent call last)",
      "\u001b[1;32m<ipython-input-18-c893467598ed>\u001b[0m in \u001b[0;36m<module>\u001b[1;34m()\u001b[0m\n\u001b[1;32m----> 1\u001b[1;33m \u001b[0mmodel\u001b[0m\u001b[1;33m.\u001b[0m\u001b[0mpredict\u001b[0m\u001b[1;33m(\u001b[0m\u001b[1;34m'f:/scrapy/pima_indian.txt'\u001b[0m\u001b[1;33m)\u001b[0m\u001b[1;33m\u001b[0m\u001b[0m\n\u001b[0m",
      "\u001b[1;32m<ipython-input-11-b68be54f9c32>\u001b[0m in \u001b[0;36mpredict\u001b[1;34m(self, filename)\u001b[0m\n\u001b[0;32m     58\u001b[0m         \u001b[0mtestset\u001b[0m\u001b[1;33m=\u001b[0m\u001b[1;33m[\u001b[0m\u001b[1;33m]\u001b[0m\u001b[1;33m\u001b[0m\u001b[0m\n\u001b[0;32m     59\u001b[0m         \u001b[0msplit\u001b[0m\u001b[1;33m=\u001b[0m\u001b[1;36m.67\u001b[0m\u001b[1;33m\u001b[0m\u001b[0m\n\u001b[1;32m---> 60\u001b[1;33m         \u001b[0mloadDataset\u001b[0m\u001b[1;33m(\u001b[0m\u001b[0mfilename\u001b[0m\u001b[1;33m,\u001b[0m\u001b[0msplit\u001b[0m\u001b[1;33m,\u001b[0m\u001b[0mtrainingset\u001b[0m\u001b[1;33m,\u001b[0m\u001b[0mtestset\u001b[0m\u001b[1;33m)\u001b[0m\u001b[1;33m\u001b[0m\u001b[0m\n\u001b[0m\u001b[0;32m     61\u001b[0m         \u001b[0mprint\u001b[0m\u001b[1;33m(\u001b[0m\u001b[1;34m'train set:'\u001b[0m\u001b[1;33m+\u001b[0m\u001b[0mrepr\u001b[0m\u001b[1;33m(\u001b[0m\u001b[0mlen\u001b[0m\u001b[1;33m(\u001b[0m\u001b[0mtrainingset\u001b[0m\u001b[1;33m)\u001b[0m\u001b[1;33m)\u001b[0m\u001b[1;33m)\u001b[0m\u001b[1;33m\u001b[0m\u001b[0m\n\u001b[0;32m     62\u001b[0m         \u001b[0mprint\u001b[0m\u001b[1;33m(\u001b[0m\u001b[1;34m'test set:'\u001b[0m\u001b[1;33m+\u001b[0m\u001b[0mrepr\u001b[0m\u001b[1;33m(\u001b[0m\u001b[0mlen\u001b[0m\u001b[1;33m(\u001b[0m\u001b[0mtestset\u001b[0m\u001b[1;33m)\u001b[0m\u001b[1;33m)\u001b[0m\u001b[1;33m)\u001b[0m\u001b[1;33m\u001b[0m\u001b[0m\n",
      "\u001b[1;31mNameError\u001b[0m: name 'loadDataset' is not defined"
     ]
    }
   ],
   "source": [
    "model.predict('f:/scrapy/pima_indian.txt')"
   ]
  },
  {
   "cell_type": "code",
   "execution_count": 16,
   "metadata": {},
   "outputs": [
    {
     "ename": "NameError",
     "evalue": "name 'loadDataset' is not defined",
     "output_type": "error",
     "traceback": [
      "\u001b[1;31m---------------------------------------------------------------------------\u001b[0m",
      "\u001b[1;31mNameError\u001b[0m                                 Traceback (most recent call last)",
      "\u001b[1;32m<ipython-input-16-c893467598ed>\u001b[0m in \u001b[0;36m<module>\u001b[1;34m()\u001b[0m\n\u001b[1;32m----> 1\u001b[1;33m \u001b[0mmodel\u001b[0m\u001b[1;33m.\u001b[0m\u001b[0mpredict\u001b[0m\u001b[1;33m(\u001b[0m\u001b[1;34m'f:/scrapy/pima_indian.txt'\u001b[0m\u001b[1;33m)\u001b[0m\u001b[1;33m\u001b[0m\u001b[0m\n\u001b[0m",
      "\u001b[1;32m<ipython-input-11-b68be54f9c32>\u001b[0m in \u001b[0;36mpredict\u001b[1;34m(self, filename)\u001b[0m\n\u001b[0;32m     58\u001b[0m         \u001b[0mtestset\u001b[0m\u001b[1;33m=\u001b[0m\u001b[1;33m[\u001b[0m\u001b[1;33m]\u001b[0m\u001b[1;33m\u001b[0m\u001b[0m\n\u001b[0;32m     59\u001b[0m         \u001b[0msplit\u001b[0m\u001b[1;33m=\u001b[0m\u001b[1;36m.67\u001b[0m\u001b[1;33m\u001b[0m\u001b[0m\n\u001b[1;32m---> 60\u001b[1;33m         \u001b[0mloadDataset\u001b[0m\u001b[1;33m(\u001b[0m\u001b[0mfilename\u001b[0m\u001b[1;33m,\u001b[0m\u001b[0msplit\u001b[0m\u001b[1;33m,\u001b[0m\u001b[0mtrainingset\u001b[0m\u001b[1;33m,\u001b[0m\u001b[0mtestset\u001b[0m\u001b[1;33m)\u001b[0m\u001b[1;33m\u001b[0m\u001b[0m\n\u001b[0m\u001b[0;32m     61\u001b[0m         \u001b[0mprint\u001b[0m\u001b[1;33m(\u001b[0m\u001b[1;34m'train set:'\u001b[0m\u001b[1;33m+\u001b[0m\u001b[0mrepr\u001b[0m\u001b[1;33m(\u001b[0m\u001b[0mlen\u001b[0m\u001b[1;33m(\u001b[0m\u001b[0mtrainingset\u001b[0m\u001b[1;33m)\u001b[0m\u001b[1;33m)\u001b[0m\u001b[1;33m)\u001b[0m\u001b[1;33m\u001b[0m\u001b[0m\n\u001b[0;32m     62\u001b[0m         \u001b[0mprint\u001b[0m\u001b[1;33m(\u001b[0m\u001b[1;34m'test set:'\u001b[0m\u001b[1;33m+\u001b[0m\u001b[0mrepr\u001b[0m\u001b[1;33m(\u001b[0m\u001b[0mlen\u001b[0m\u001b[1;33m(\u001b[0m\u001b[0mtestset\u001b[0m\u001b[1;33m)\u001b[0m\u001b[1;33m)\u001b[0m\u001b[1;33m)\u001b[0m\u001b[1;33m\u001b[0m\u001b[0m\n",
      "\u001b[1;31mNameError\u001b[0m: name 'loadDataset' is not defined"
     ]
    }
   ],
   "source": []
  },
  {
   "cell_type": "code",
   "execution_count": 5,
   "metadata": {},
   "outputs": [],
   "source": []
  },
  {
   "cell_type": "code",
   "execution_count": 6,
   "metadata": {},
   "outputs": [],
   "source": []
  },
  {
   "cell_type": "code",
   "execution_count": null,
   "metadata": {},
   "outputs": [],
   "source": []
  }
 ],
 "metadata": {
  "kernelspec": {
   "display_name": "Python 3",
   "language": "python",
   "name": "python3"
  },
  "language_info": {
   "codemirror_mode": {
    "name": "ipython",
    "version": 3
   },
   "file_extension": ".py",
   "mimetype": "text/x-python",
   "name": "python",
   "nbconvert_exporter": "python",
   "pygments_lexer": "ipython3",
   "version": "3.7.0"
  }
 },
 "nbformat": 4,
 "nbformat_minor": 2
}
